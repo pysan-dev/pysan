{
 "cells": [
  {
   "cell_type": "code",
   "execution_count": null,
   "metadata": {},
   "outputs": [],
   "source": [
    "# default_exp nonalignment"
   ]
  },
  {
   "cell_type": "markdown",
   "metadata": {},
   "source": [
    "# Non-alignment Techniques\n",
    "\n",
    "> Compare sequences without aligning them "
   ]
  },
  {
   "cell_type": "markdown",
   "metadata": {},
   "source": [
    "These methods form the `nonalignment` module."
   ]
  },
  {
   "cell_type": "code",
   "execution_count": 8,
   "metadata": {},
   "outputs": [],
   "source": [
    "#export\n",
    "from pysan.subsequences import get_subsequences\n",
    "import math\n",
    "def get_combinatorial_distance(s1,s2):\n",
    "    \"Computes the combinatorial distance between two sequences. This is defined as 1 minus the number of common subsequences divided by the square root of the product of the number of subsequences in each sequence. See page 149 in Social Sequence Analysis by Benjamin Cornwell for details. Note that this computation can be intense (slow) for all but very simple cases.\"\n",
    "\n",
    "    s1_subs = get_subsequences(s1)\n",
    "    s2_subs = get_subsequences(s2)\n",
    "\n",
    "    # parse to strings so that they can be easily compared\n",
    "    # - haven't tried it without, may be faster...\n",
    "    s1_subs_strings = [str(s) for s in s1_subs]\n",
    "    s2_subs_strings = [str(s) for s in s2_subs]\n",
    "\n",
    "    common_subs = list(set(s1_subs_strings) & set(s2_subs_strings))\n",
    "\n",
    "    bottom_fraction = math.sqrt(len(s1_subs) * len(s2_subs))\n",
    "    full_fraction = len(common_subs) / bottom_fraction\n",
    "\n",
    "    return 1 - full_fraction"
   ]
  },
  {
   "cell_type": "code",
   "execution_count": 9,
   "metadata": {},
   "outputs": [
    {
     "data": {
      "text/plain": [
       "0.9955420472822415"
      ]
     },
     "execution_count": 9,
     "metadata": {},
     "output_type": "execute_result"
    }
   ],
   "source": [
    "s1 = [1,1,1,2,2,3,2,4,4,3,2,1,2,3,3,3,2,2,1,1,1]\n",
    "s2 = [1,1,2,2,3,2,4,4,3,2,1,2,3,2,2,2,3,3,2,4,4]\n",
    "get_combinatorial_distance(s1, s2)"
   ]
  },
  {
   "cell_type": "markdown",
   "metadata": {},
   "source": [
    "# Plotting"
   ]
  }
 ],
 "metadata": {
  "kernelspec": {
   "display_name": "Python 3",
   "language": "python",
   "name": "python3"
  },
  "language_info": {
   "codemirror_mode": {
    "name": "ipython",
    "version": 3
   },
   "file_extension": ".py",
   "mimetype": "text/x-python",
   "name": "python",
   "nbconvert_exporter": "python",
   "pygments_lexer": "ipython3",
   "version": "3.9.6"
  }
 },
 "nbformat": 4,
 "nbformat_minor": 4
}
