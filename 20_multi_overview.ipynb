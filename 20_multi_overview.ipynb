{
 "cells": [
  {
   "cell_type": "code",
   "execution_count": 1,
   "metadata": {},
   "outputs": [],
   "source": [
    "# default_exp multi"
   ]
  },
  {
   "cell_type": "markdown",
   "metadata": {},
   "source": [
    "# Multisequence Analysis Overview\n",
    "\n",
    "> Analyse collections of sequences"
   ]
  },
  {
   "cell_type": "markdown",
   "metadata": {},
   "source": [
    "The pysan library's `multi` module contains methods for analysing collections of sequences. These collections can contain two or more sequences, with methods in this module either accepting the full collection, or a single pair of sequences, as input. Multisequence analysis can answer much richer questions than any sequence in isolation, and can be as simple or complex as the research question requires."
   ]
  },
  {
   "cell_type": "markdown",
   "metadata": {},
   "source": [
    "The first step of any multisequence analysis is to plot the data. The `multi` module's `plot_sequences` method can do just that, with the optional parameter of gaps between each of the elements."
   ]
  },
  {
   "cell_type": "code",
   "execution_count": 2,
   "metadata": {},
   "outputs": [],
   "source": [
    "#export\n",
    "import matplotlib.pyplot as plt\n",
    "import numpy as np\n",
    "from pysan.elements import get_alphabet\n",
    "def plot_sequences(sequences, gap=True):\n",
    "    \"Creates a scatter style sequence plot for a collection of sequences.\"\n",
    "    max_sequence_length = max([len(s) for s in sequences])\n",
    "    plt.figure(figsize=[max_sequence_length*0.3,0.3 * len(sequences)])\n",
    "\n",
    "    for y,sequence in enumerate(sequences):\n",
    "        np_sequence = np.array(sequence)\n",
    "        alphabet_len = len(get_alphabet(sequence))\n",
    "\n",
    "        plt.gca().set_prop_cycle(None)\n",
    "        unique_values = get_alphabet(sequence)\n",
    "        for i, value in enumerate(unique_values):\n",
    "\n",
    "            if gap:\n",
    "                points = np.where(np_sequence == value, y + 1, np.nan)\n",
    "                plt.scatter(x=range(len(np_sequence)), y=points, marker='s', label=value, s=100)\n",
    "            else:\n",
    "                points = np.where(np_sequence == value, 1, np.nan)\n",
    "                plt.bar(range(len(points)), points, bottom=[y for x in range(len(points))], width=1, align='edge', label=i)\n",
    "\n",
    "    if gap:\n",
    "        plt.ylim(0.4, len(sequences) + 0.6)\n",
    "        plt.xlim(-0.6, max_sequence_length - 0.4)\n",
    "    else:\n",
    "        plt.ylim(0,len(sequences))\n",
    "        plt.xlim(0,max_sequence_length)\n",
    "\n",
    "    handles, labels = plt.gca().get_legend_handles_labels()\n",
    "    by_label = dict(zip(labels, handles))\n",
    "    plt.legend(by_label.values(), by_label.keys(), bbox_to_anchor=(1.0, 1.1), loc='upper left')\n",
    "    plt.tick_params(\n",
    "        axis='y',\n",
    "        which='both',\n",
    "        left=False,\n",
    "        labelleft=False)\n",
    "\n",
    "    return plt"
   ]
  },
  {
   "cell_type": "code",
   "execution_count": 3,
   "metadata": {},
   "outputs": [
    {
     "data": {
      "image/png": "[encoded data removed]",
      "text/plain": [
       "<Figure size 453.6x86.4 with 1 Axes>"
      ]
     },
     "metadata": {
      "needs_background": "light"
     },
     "output_type": "display_data"
    }
   ],
   "source": [
    "from pysan.multi import plot_sequences\n",
    "s1 = [1,1,1,2,2,3,2,4,4,3,2,1,2,3,3,3,2,2,1,1,1]\n",
    "s2 = [1,1,2,2,3,2,4,4,3,2,1,2,3,2,2,2,3,3,2,4,4]\n",
    "s3 = [1,1,1,2,2,3,2,4,4,3,2,1,2,3,3,3,4,4,4,3,3]\n",
    "s4 = [1,1,1,1,2,3,2,3,3,3,3,1,2,2,3,3,3,4,4,4,4]\n",
    "sequences = [s1,s2,s3,s4]\n",
    "plt = plot_sequences(sequences)\n",
    "plt.show()"
   ]
  },
  {
   "cell_type": "code",
   "execution_count": 4,
   "metadata": {},
   "outputs": [
    {
     "data": {
      "image/png": "[encoded data removed]",
      "text/plain": [
       "<Figure size 453.6x86.4 with 1 Axes>"
      ]
     },
     "metadata": {
      "needs_background": "light"
     },
     "output_type": "display_data"
    }
   ],
   "source": [
    "from pysan.multi import plot_sequences\n",
    "plt = plot_sequences(sequences, gap=False)\n",
    "plt.show()"
   ]
  }
 ],
 "metadata": {
  "kernelspec": {
   "display_name": "Python 3",
   "language": "python",
   "name": "python3"
  },
  "language_info": {
   "codemirror_mode": {
    "name": "ipython",
    "version": 3
   },
   "file_extension": ".py",
   "mimetype": "text/x-python",
   "name": "python",
   "nbconvert_exporter": "python",
   "pygments_lexer": "ipython3",
   "version": "3.9.6"
  }
 },
 "nbformat": 4,
 "nbformat_minor": 4
}
