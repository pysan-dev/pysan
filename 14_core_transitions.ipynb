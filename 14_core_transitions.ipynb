{
 "cells": [
  {
   "cell_type": "code",
   "execution_count": null,
   "metadata": {},
   "outputs": [],
   "source": [
    "# default_exp core.transitions"
   ]
  },
  {
   "cell_type": "markdown",
   "metadata": {},
   "source": [
    "# Transitions\n",
    "\n",
    "> Describe transitions between states"
   ]
  },
  {
   "cell_type": "markdown",
   "metadata": {},
   "source": [
    "A transition is a nonrecurrent bi-gram, so each transition in a sequence represents a change between states."
   ]
  },
  {
   "cell_type": "code",
   "execution_count": null,
   "metadata": {},
   "outputs": [],
   "source": [
    "#export\n",
    "def get_transitions(sequence):\n",
    "\t\"Extracts a list of transitions from a sequence, returning a list of lists containing each transition.\"\n",
    "\n",
    "\ttransitions = []\n",
    "\tfor position in range(len(sequence) - 1):\n",
    "\t\tif sequence[position] != sequence[position + 1]:\n",
    "\t\t\ttransitions.append([sequence[position], sequence[position + 1]])\n",
    "\n",
    "\treturn transitions"
   ]
  },
  {
   "cell_type": "code",
   "execution_count": null,
   "metadata": {},
   "outputs": [],
   "source": [
    "#export\n",
    "def get_ntransitions(sequence):\n",
    "\t\"Computes the number of transitions in a sequence.\"\t\n",
    "\treturn len(get_transitions(sequence))"
   ]
  },
  {
   "cell_type": "code",
   "execution_count": null,
   "metadata": {},
   "outputs": [],
   "source": [
    "#export\n",
    "def get_transition_matrix(sequence, alphabet=None, verbose=False):\n",
    "\t\"Computes a transition matrix for each bigram in a sequence. The resulting matrix can be interpreted by reading along the side first, then across the top, indicating from the element in down the side to the element along the top. For example, to find the number of transitions from element 2 to element 3, find element 2 down the side, then follow that row across until it reaches element 3 across the top.\"\n",
    "\tif alphabet == None:\n",
    "\t\talphabet = get_alphabet(sequence)\n",
    "\tall_ngrams = get_all_ngrams(sequence, 2)\n",
    "\n",
    "\ttransition_matrix = np.zeros((len(alphabet), len(alphabet)))\n",
    "\tdescriptive_matrix = [['-' for x in range(len(alphabet))] for y in range(len(alphabet))]\n",
    "\n",
    "\tfor x, element_row in enumerate(alphabet):\n",
    "\t\tfor y, element_column in enumerate(alphabet):\n",
    "\t\t\tcurrent_ngram = [element_row, element_column]\n",
    "\t\t\tdescriptive_matrix[x][y] = 'n' + str(current_ngram)\n",
    "\t\t\t#print('from', current_ngram[0], 'to', current_ngram[1], ':', all_ngrams.count(current_ngram))\n",
    "\t\t\ttransition_matrix[x, y] = all_ngrams.count(current_ngram)\n",
    "\n",
    "\t# add column & index labelling in TraMineR style\n",
    "\tpre_alphabet = [str(a) + '->' for a in alphabet]\n",
    "\tpost_alphabet = ['->' + str(a) for a in alphabet]\n",
    "\n",
    "\tif verbose:\n",
    "\t\tde_df = pd.DataFrame(descriptive_matrix, columns=post_alphabet, index=pre_alphabet)\n",
    "\t\tprint(de_df)\n",
    "\ttm_df = pd.DataFrame(transition_matrix, columns=post_alphabet, index=pre_alphabet)\n",
    "\treturn tm_df"
   ]
  },
  {
   "cell_type": "markdown",
   "metadata": {},
   "source": [
    "# Plotting"
   ]
  },
  {
   "cell_type": "code",
   "execution_count": null,
   "metadata": {},
   "outputs": [],
   "source": []
  }
 ],
 "metadata": {
  "kernelspec": {
   "display_name": "Python 3",
   "language": "python",
   "name": "python3"
  }
 },
 "nbformat": 4,
 "nbformat_minor": 4
}
