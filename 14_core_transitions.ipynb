{
 "cells": [
  {
   "cell_type": "code",
   "execution_count": null,
   "metadata": {},
   "outputs": [],
   "source": [
    "# default_exp core.transitions"
   ]
  },
  {
   "cell_type": "markdown",
   "metadata": {},
   "source": [
    "# Transitions\n",
    "\n",
    "> Describe transitions between states"
   ]
  },
  {
   "cell_type": "markdown",
   "metadata": {},
   "source": [
    "A transition is a nonrecurrent bi-gram, so each transition in a sequence represents a change between states."
   ]
  },
  {
   "cell_type": "code",
   "execution_count": null,
   "metadata": {},
   "outputs": [],
   "source": [
    "#export\n",
    "def get_transitions(sequence):\n",
    "    \"Extracts a list of transitions from a sequence, returning a list of lists containing each transition.\"\n",
    "\n",
    "    transitions = []\n",
    "    for position in range(len(sequence) - 1):\n",
    "        if sequence[position] != sequence[position + 1]:\n",
    "            transitions.append([sequence[position], sequence[position + 1]])\n",
    "\n",
    "    return transitions"
   ]
  },
  {
   "cell_type": "code",
   "execution_count": null,
   "metadata": {},
   "outputs": [],
   "source": [
    "#export\n",
    "def get_ntransitions(sequence):\n",
    "    \"Computes the number of transitions in a sequence.\"\t\n",
    "    return len(get_transitions(sequence))"
   ]
  },
  {
   "cell_type": "code",
   "execution_count": null,
   "metadata": {},
   "outputs": [],
   "source": [
    "#export\n",
    "def get_transition_matrix(sequence, alphabet=None, verbose=False):\n",
    "    \"Computes a transition matrix for each bigram in a sequence. The resulting matrix can be interpreted by reading along the side first, then across the top, indicating from the element in down the side to the element along the top. For example, to find the number of transitions from element 2 to element 3, find element 2 down the side, then follow that row across until it reaches element 3 across the top.\"\n",
    "    if alphabet == None:\n",
    "        alphabet = get_alphabet(sequence)\n",
    "    all_ngrams = get_all_ngrams(sequence, 2)\n",
    "\n",
    "    transition_matrix = np.zeros((len(alphabet), len(alphabet)))\n",
    "    descriptive_matrix = [['-' for x in range(len(alphabet))] for y in range(len(alphabet))]\n",
    "\n",
    "    for x, element_row in enumerate(alphabet):\n",
    "        for y, element_column in enumerate(alphabet):\n",
    "            current_ngram = [element_row, element_column]\n",
    "            descriptive_matrix[x][y] = 'n' + str(current_ngram)\n",
    "            #print('from', current_ngram[0], 'to', current_ngram[1], ':', all_ngrams.count(current_ngram))\n",
    "            transition_matrix[x, y] = all_ngrams.count(current_ngram)\n",
    "\n",
    "    # add column & index labelling in TraMineR style\n",
    "    pre_alphabet = [str(a) + '->' for a in alphabet]\n",
    "    post_alphabet = ['->' + str(a) for a in alphabet]\n",
    "\n",
    "    if verbose:\n",
    "        de_df = pd.DataFrame(descriptive_matrix, columns=post_alphabet, index=pre_alphabet)\n",
    "        print(de_df)\n",
    "    tm_df = pd.DataFrame(transition_matrix, columns=post_alphabet, index=pre_alphabet)\n",
    "    return tm_df"
   ]
  },
  {
   "cell_type": "markdown",
   "metadata": {},
   "source": [
    "# Plotting"
   ]
  },
  {
   "cell_type": "code",
   "execution_count": null,
   "metadata": {},
   "outputs": [],
   "source": []
  }
 ],
 "metadata": {
  "kernelspec": {
   "display_name": "Python 3",
   "language": "python",
   "name": "python3"
  }
 },
 "nbformat": 4,
 "nbformat_minor": 4
}
