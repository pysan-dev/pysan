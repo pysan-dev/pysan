{
 "cells": [
  {
   "cell_type": "code",
   "execution_count": null,
   "metadata": {},
   "outputs": [],
   "source": [
    "# default_exp multi.attributes"
   ]
  },
  {
   "cell_type": "markdown",
   "metadata": {},
   "source": [
    "# Attributes\n",
    "\n",
    "> Statistics computed from a collection of sequences"
   ]
  },
  {
   "cell_type": "code",
   "execution_count": null,
   "metadata": {},
   "outputs": [],
   "source": [
    "def are_recurrent(sequences):\n",
    "\t\"Returns true if any of the sequences in a given collection are recurrant, false otherwise.\"\n",
    "\n",
    "\tfor sequence in sequences:\n",
    "\t\tif pysan_core.is_recurrent(sequence):\n",
    "\t\t\treturn True\n",
    "\t\n",
    "\treturn False"
   ]
  },
  {
   "cell_type": "code",
   "execution_count": null,
   "metadata": {},
   "outputs": [],
   "source": [
    "def get_summary_statistic(sequence, function):\n",
    "\t\"\"\"\n",
    "\tUC Computes a summary statistic (e.g. entropy, complexity, or turbulence) for each sequence in a collection, returning the results as a list.\n",
    "\n",
    "\t\"\"\"\n",
    "\n",
    "\tpass"
   ]
  },
  {
   "cell_type": "code",
   "execution_count": null,
   "metadata": {},
   "outputs": [],
   "source": [
    "def get_routine_scores(sequences, duration):\n",
    "\t\"\"\"\n",
    "\tUC Returns a list containing the routine scores for each sequence in a collection using :meth:`get_routine() <pysan.core.get_routine>`.\n",
    "\t\"\"\"\n",
    "\n",
    "\tpass"
   ]
  },
  {
   "cell_type": "code",
   "execution_count": null,
   "metadata": {},
   "outputs": [],
   "source": [
    "def get_synchrony(sequences):\n",
    "\t\"Computes the normalised synchrony between a two or more sequences. Synchrony here refers to positions with identical elements, e.g. two identical sequences have a synchrony of 1, two completely different sequences have a synchrony of 0. The value is normalised by dividing by the number of positions compared. This computation is defined in Cornwell's 2015 book on social sequence analysis, page 230.\"\n",
    "\t\n",
    "\tshortest_sequence = min([len(s) for s in sequences])\n",
    "\t\n",
    "\tsame_elements = []\n",
    "\tfor position in range(shortest_sequence):\n",
    "\t\n",
    "\t\telements_at_this_position = []\n",
    "\t\tfor sequence in sequences:\n",
    "\t\t\telements_at_this_position.append(sequence[position])\n",
    "\t\t\t\n",
    "\t\tsame_elements.append(elements_at_this_position.count(elements_at_this_position[0]) == len(elements_at_this_position))\n",
    "\t\t\n",
    "\treturn same_elements.count(True) / shortest_sequence"
   ]
  },
  {
   "cell_type": "code",
   "execution_count": null,
   "metadata": {},
   "outputs": [],
   "source": [
    "def get_sequence_frequencies(sequences):\n",
    "\t\"Computes the frequencies of different sequences in a collection, returning a dictionary of their string representations and counts.\"\n",
    "\t\n",
    "\t# converting to strings makes comparison easy\n",
    "\tsequences_as_strings = [str(s) for s in sequences]\n",
    "\t\n",
    "\tsequence_frequencies = {}\n",
    "\tfor sequence in set(sequences_as_strings):\n",
    "\t\tsequence_frequencies[sequence] = sequences_as_strings.count(sequence)\n",
    "\t\n",
    "\tsequence_frequencies = {k: v for k, v in sorted(sequence_frequencies.items(), key=lambda item: item[1], reverse=True)}\n",
    "\t\n",
    "\treturn sequence_frequencies"
   ]
  }
 ],
 "metadata": {
  "kernelspec": {
   "display_name": "Python 3",
   "language": "python",
   "name": "python3"
  }
 },
 "nbformat": 4,
 "nbformat_minor": 4
}
