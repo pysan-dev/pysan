{
 "cells": [
  {
   "cell_type": "markdown",
   "metadata": {},
   "source": [
    "# Sequence Analysis Overview\n",
    "\n",
    "> How to ask questions in the sequence domain"
   ]
  },
  {
   "cell_type": "markdown",
   "metadata": {},
   "source": [
    "The sequence domain concerns the order in which events happen, as opposed to when they happen in time (time domain), or how frequenctly they occur (frequency domain).\n",
    "Applying techniques from sequence analysis means framing your questions in the sequence domain."
   ]
  },
  {
   "cell_type": "code",
   "execution_count": null,
   "metadata": {},
   "outputs": [],
   "source": [
    "#export\n",
    "import numpy as np, matplotlib.pyplot as plt\n",
    "from pysan.core.elements import *\n",
    "\n",
    "def plot_sequence(sequence, highlighted_ngrams=[]):\n",
    "    \"Creates a standard sequence plot where each element corresponds to a position on the y-axis. The optional highlighted_ngrams parameter can be one or more n-grams to be outlined in a red box.\"\n",
    "    np_sequence = np.array(sequence)\n",
    "    alphabet_len = len(get_alphabet(sequence))\n",
    "\n",
    "    plt.figure(figsize=[len(sequence)*0.3,alphabet_len * 0.3])\n",
    "\n",
    "    unique_values = list(set(sequence))\n",
    "    for i, value in enumerate(unique_values):\n",
    "\n",
    "        points = np.where(np_sequence == value, i, np.nan)\n",
    "\n",
    "        plt.scatter(x=range(len(np_sequence)), y=points, marker='s', label=value, s=35)\n",
    "\n",
    "    plt.yticks(range(len(unique_values)), unique_values)\n",
    "    plt.ylim(-1, len(unique_values))\n",
    "\n",
    "    # highlight any of the n-grams given\n",
    "\n",
    "    if highlighted_ngrams != []:\n",
    "\n",
    "        def highlight_ngram(ngram):\n",
    "            n = len(ngram)\n",
    "            match_positions = []\n",
    "            for x in range(len(sequence) -  n + 1):\n",
    "                this_ngram = sequence[x:x + n]\n",
    "                if str(this_ngram) == str(ngram):\n",
    "                    match_positions.append(x)\n",
    "\n",
    "            for position in match_positions:\n",
    "                bot = min(ngram) - 1.5\n",
    "                top = max(ngram) - 0.5\n",
    "                left = position - 0.5\n",
    "                right = left + n\n",
    "\n",
    "                line_width = 1\n",
    "                plt.plot([left,right], [bot,bot], color='red', linewidth=line_width)\n",
    "                plt.plot([left,right], [top,top], color='red', linewidth=line_width)\n",
    "                plt.plot([left,left], [bot,top], color='red', linewidth=line_width)\n",
    "                plt.plot([right,right], [bot,top], color='red', linewidth=line_width)\n",
    "\n",
    "        # check if only one n-gram has been supplied\n",
    "        if type(highlighted_ngrams[0]) is int:\n",
    "\n",
    "            highlight_ngram(highlighted_ngrams)\n",
    "\n",
    "        else: # multiple n-gram's found\n",
    "\n",
    "            for ngram in highlighted_ngrams:\n",
    "                highlight_ngram(ngram)\n",
    "\n",
    "    return plt"
   ]
  },
  {
   "cell_type": "code",
   "execution_count": null,
   "metadata": {},
   "outputs": [
    {
     "data": {
      "text/plain": [
       "<module 'matplotlib.pyplot' from '/home/ojs/.local/lib/python3.8/site-packages/matplotlib/pyplot.py'>"
      ]
     },
     "execution_count": null,
     "metadata": {},
     "output_type": "execute_result"
    },
    {
     "data": {
      "image/png": "[encoded data removed]",
      "text/plain": [
       "<Figure size 388.8x64.8 with 1 Axes>"
      ]
     },
     "metadata": {
      "needs_background": "light"
     },
     "output_type": "display_data"
    }
   ],
   "source": [
    "sequence = [1,1,2,1,2,2,3,1,1,2,2,1,2,2,3,1,1,2]\n",
    "plot_sequence(sequence)"
   ]
  },
  {
   "cell_type": "code",
   "execution_count": null,
   "metadata": {},
   "outputs": [],
   "source": []
  }
 ],
 "metadata": {
  "kernelspec": {
   "display_name": "Python 3",
   "language": "python",
   "name": "python3"
  }
 },
 "nbformat": 4,
 "nbformat_minor": 4
}
