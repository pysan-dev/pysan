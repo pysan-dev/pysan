{
 "cells": [
  {
   "cell_type": "code",
   "execution_count": null,
   "metadata": {},
   "outputs": [],
   "source": [
    "# default_exp core"
   ]
  },
  {
   "cell_type": "markdown",
   "metadata": {},
   "source": [
    "# Sequence Analysis Overview\n",
    "\n",
    "> How to ask questions in the sequence domain"
   ]
  },
  {
   "cell_type": "markdown",
   "metadata": {},
   "source": [
    "The sequence domain concerns the order in which events happen, as opposed to when they happen in time (time domain), or how frequenctly they occur (frequency domain).\n",
    "Applying techniques from sequence analysis means framing your questions in the sequence domain."
   ]
  },
  {
   "cell_type": "markdown",
   "metadata": {},
   "source": [
    "As a simple example, let's consider a person's workday routine, which may consist of one of three states e.g. (*resting*, *working*,*eating*). In pysan a sequence representing one day's work can be represented as a list of integers, where each integer is equal to one of the three states e.g. (1, 2, 3). These can be represented and plotted using the `plot_sequence` function as follows;"
   ]
  },
  {
   "cell_type": "code",
   "execution_count": 5,
   "metadata": {},
   "outputs": [],
   "source": [
    "#export\n",
    "from pysan.elements import get_alphabet\n",
    "import numpy as np, matplotlib.pyplot as plt\n",
    "\n",
    "def plot_sequence(sequence, highlighted_ngrams=[]):\n",
    "    \"Creates a standard sequence plot where each element corresponds to a position on the y-axis. The optional highlighted_ngrams parameter can be one or more n-grams to be outlined in a red box.\"\n",
    "    np_sequence = np.array(sequence)\n",
    "    alphabet_len = len(get_alphabet(sequence))\n",
    "\n",
    "    plt.figure(figsize=[len(sequence)*0.3,alphabet_len * 0.3])\n",
    "\n",
    "    unique_values = list(set(sequence))\n",
    "    for i, value in enumerate(unique_values):\n",
    "\n",
    "        points = np.where(np_sequence == value, i, np.nan)\n",
    "\n",
    "        plt.scatter(x=range(len(np_sequence)), y=points, marker='s', label=value, s=35)\n",
    "\n",
    "    plt.yticks(range(len(unique_values)), unique_values)\n",
    "    plt.ylim(-1, len(unique_values))\n",
    "\n",
    "    # highlight any of the n-grams given\n",
    "\n",
    "    if highlighted_ngrams != []:\n",
    "\n",
    "        def highlight_ngram(ngram):\n",
    "            n = len(ngram)\n",
    "            match_positions = []\n",
    "            for x in range(len(sequence) -  n + 1):\n",
    "                this_ngram = sequence[x:x + n]\n",
    "                if str(this_ngram) == str(ngram):\n",
    "                    match_positions.append(x)\n",
    "\n",
    "            for position in match_positions:\n",
    "                bot = min(ngram) - 1.5\n",
    "                top = max(ngram) - 0.5\n",
    "                left = position - 0.5\n",
    "                right = left + n\n",
    "\n",
    "                line_width = 1\n",
    "                plt.plot([left,right], [bot,bot], color='red', linewidth=line_width)\n",
    "                plt.plot([left,right], [top,top], color='red', linewidth=line_width)\n",
    "                plt.plot([left,left], [bot,top], color='red', linewidth=line_width)\n",
    "                plt.plot([right,right], [bot,top], color='red', linewidth=line_width)\n",
    "\n",
    "        # check if only one n-gram has been supplied\n",
    "        if type(highlighted_ngrams[0]) is int:\n",
    "\n",
    "            highlight_ngram(highlighted_ngrams)\n",
    "\n",
    "        else: # multiple n-gram's found\n",
    "\n",
    "            for ngram in highlighted_ngrams:\n",
    "                highlight_ngram(ngram)\n",
    "\n",
    "    return plt"
   ]
  },
  {
   "cell_type": "code",
   "execution_count": 7,
   "metadata": {},
   "outputs": [
    {
     "data": {
      "image/png": "[encoded data removed]",
      "text/plain": [
       "<Figure size 388.8x64.8 with 1 Axes>"
      ]
     },
     "metadata": {
      "needs_background": "light"
     },
     "output_type": "display_data"
    }
   ],
   "source": [
    "from pysan.core import plot_sequence\n",
    "sequence = [1,1,2,1,2,2,3,1,1,2,2,1,2,2,3,1,1,2]\n",
    "plt = plot_sequence(sequence)\n",
    "plt.show()"
   ]
  },
  {
   "cell_type": "markdown",
   "metadata": {},
   "source": [
    "This same method can also highlight ngrams of interest using its second parameter."
   ]
  },
  {
   "cell_type": "code",
   "execution_count": 9,
   "metadata": {},
   "outputs": [
    {
     "data": {
      "image/png": "[encoded data removed]",
      "text/plain": [
       "<Figure size 388.8x64.8 with 1 Axes>"
      ]
     },
     "metadata": {
      "needs_background": "light"
     },
     "output_type": "display_data"
    }
   ],
   "source": [
    "sequence = [1,1,2,1,2,2,3,1,1,2,2,1,2,2,3,1,1,2]\n",
    "plt = plot_sequence(sequence, highlighted_ngrams = [[2,3]])\n",
    "plt.show()"
   ]
  },
  {
   "cell_type": "markdown",
   "metadata": {},
   "source": [
    "This is a good first step in understanding the dynamics of the sequence, e.g. which activities typically follow working, what portion of the day is spent resting, etc. The pysan library contains many methods for formalising the answers to each of these questions, but plotting is always a good first step.\n",
    "\n",
    "In some cases, it can be useful to show each sequence in one dimension as a continuous line of changing states (colors). To this end, the `plot_sequence_1d` method can be used which produces the image below."
   ]
  },
  {
   "cell_type": "code",
   "execution_count": 1,
   "metadata": {},
   "outputs": [],
   "source": [
    "#export\n",
    "def plot_sequence_1d(sequence, flat=False):\n",
    "    \"Plots a sequence in one dimension - useful for stacking multiple sequences above one another.\"\n",
    "\n",
    "    np_sequence = np.array(sequence)\n",
    "    alphabet_len = len(get_alphabet(sequence))\n",
    "\n",
    "    plt.figure(figsize=[len(sequence)*0.4, 0.5])\n",
    "\n",
    "    unique_values = list(set(sequence))\n",
    "    for i, value in enumerate(unique_values):\n",
    "\n",
    "        points = np.where(np_sequence == value, 1, np.nan)\n",
    "\n",
    "        plt.bar(range(len(points)), points, width=1, align='edge', label=i)\n",
    "\n",
    "    plt.ylim(-0.3, 1.3)\n",
    "    plt.tick_params(\n",
    "        axis='y',\n",
    "        which='both',\n",
    "        left=False,\n",
    "        labelleft=False)\n",
    "    plt.xlabel('Position, p')\n",
    "    plt.legend(bbox_to_anchor=(1, 1.2), loc='upper left')\n",
    "\n",
    "    return plt"
   ]
  },
  {
   "cell_type": "code",
   "execution_count": 3,
   "metadata": {},
   "outputs": [
    {
     "data": {
      "image/png": "[encoded data removed]",
      "text/plain": [
       "<Figure size 518.4x36 with 1 Axes>"
      ]
     },
     "metadata": {
      "needs_background": "light"
     },
     "output_type": "display_data"
    }
   ],
   "source": [
    "from pysan.core import plot_sequence_1d\n",
    "sequence = [1,1,2,1,2,2,3,1,1,2,2,1,2,2,3,1,1,2]\n",
    "plt = plot_sequence_1d(sequence)\n",
    "plt.show()"
   ]
  }
 ],
 "metadata": {
  "kernelspec": {
   "display_name": "Python 3",
   "language": "python",
   "name": "python3"
  },
  "language_info": {
   "codemirror_mode": {
    "name": "ipython",
    "version": 3
   },
   "file_extension": ".py",
   "mimetype": "text/x-python",
   "name": "python",
   "nbconvert_exporter": "python",
   "pygments_lexer": "ipython3",
   "version": "3.9.6"
  }
 },
 "nbformat": 4,
 "nbformat_minor": 4
}
