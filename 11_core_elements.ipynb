{
 "cells": [
  {
   "cell_type": "code",
   "execution_count": null,
   "metadata": {},
   "outputs": [],
   "source": [
    "# default_exp core.elements"
   ]
  },
  {
   "cell_type": "markdown",
   "metadata": {},
   "source": [
    "# Elements\n",
    "\n",
    "> Describe elements within sequences"
   ]
  },
  {
   "cell_type": "markdown",
   "metadata": {},
   "source": [
    "Describing the unique elements, frequencies, first positions, and raw counts of elements within a given sequence can be a useful way to get some insight into how the sequence is composed.\n",
    "The first step is to find out which elements exist in the sequence, which can be done using the `get_alphabet` method."
   ]
  },
  {
   "cell_type": "code",
   "execution_count": null,
   "metadata": {},
   "outputs": [],
   "source": [
    "#export\n",
    "def get_alphabet(sequence):\n",
    "\t\"Computes the alphabet of a given sequence (set of its unique elements).\"\n",
    "\treturn set(sequence)"
   ]
  },
  {
   "cell_type": "code",
   "execution_count": null,
   "metadata": {},
   "outputs": [
    {
     "data": {
      "text/plain": [
       "{1, 2, 3}"
      ]
     },
     "execution_count": null,
     "metadata": {},
     "output_type": "execute_result"
    }
   ],
   "source": [
    "sequence = [3, 2, 3, 1, 1, 3, 1, 1, 2, 3, 1, 3, 1, 3, 2, 2, 3, 1, 3, 2]\n",
    "get_alphabet(sequence)"
   ]
  },
  {
   "cell_type": "code",
   "execution_count": null,
   "metadata": {},
   "outputs": [
    {
     "data": {
      "text/plain": [
       "{1, 2, 3, 4, 5}"
      ]
     },
     "execution_count": null,
     "metadata": {},
     "output_type": "execute_result"
    }
   ],
   "source": [
    "sequence = [3,2,1,5,4]\n",
    "get_alphabet(sequence)"
   ]
  },
  {
   "cell_type": "code",
   "execution_count": null,
   "metadata": {},
   "outputs": [],
   "source": [
    "#export\n",
    "def get_element_counts(sequence):\n",
    "\t\"Counts the number of occurances for each element in a sequence, returning a dictionary containing the elements as keys and their counts as values.\"\n",
    "\talphabet = get_alphabet(sequence)\n",
    "\t\n",
    "\tcounts = {}\n",
    "\tfor element in alphabet:\n",
    "\t\tcounts[element] = sequence.count(element)\n",
    "\t\t\n",
    "\treturn counts"
   ]
  },
  {
   "cell_type": "code",
   "execution_count": null,
   "metadata": {},
   "outputs": [],
   "source": [
    "#export\n",
    "def get_first_positions(sequence):\n",
    "\t\"Reports the first occurance of each element in the sequence in a dictionary, with each element as keys, and their first position as values.\"\n",
    "\tunique_elements = list(set(sequence))\n",
    "\n",
    "\tfirst_positions = {}\n",
    "\tfor element in unique_elements:\n",
    "\t\tfirst_positions[element] = sequence.index(element)\n",
    "\t\t\n",
    "\treturn first_positions"
   ]
  },
  {
   "cell_type": "code",
   "execution_count": null,
   "metadata": {},
   "outputs": [],
   "source": [
    "#export\n",
    "def get_element_frequency(sequence):\n",
    "\t\"Computes the relative frequency (aka prevalence or unconditional probability) of each element in a sequence, returning a dictionary where each key is an element and each value is that elements relative frequency.\"\n",
    "\talphabet = get_alphabet(sequence)\n",
    "\t\n",
    "\tprevalences = {}\n",
    "\tfor element in alphabet:\n",
    "\t\tprevalences[element] = sequence.count(element) / len(sequence)\n",
    "\t\t\n",
    "\treturn prevalences"
   ]
  },
  {
   "cell_type": "markdown",
   "metadata": {},
   "source": [
    "# Visualisation"
   ]
  },
  {
   "cell_type": "code",
   "execution_count": null,
   "metadata": {},
   "outputs": [],
   "source": []
  }
 ],
 "metadata": {
  "kernelspec": {
   "display_name": "Python 3",
   "language": "python",
   "name": "python3"
  }
 },
 "nbformat": 4,
 "nbformat_minor": 4
}
