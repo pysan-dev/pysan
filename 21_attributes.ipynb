{
 "cells": [
  {
   "cell_type": "code",
   "execution_count": 1,
   "metadata": {},
   "outputs": [],
   "source": [
    "# default_exp attributes"
   ]
  },
  {
   "cell_type": "markdown",
   "metadata": {},
   "source": [
    "# Attributes\n",
    "\n",
    "> Statistics computed from a collection of sequences"
   ]
  },
  {
   "cell_type": "markdown",
   "metadata": {},
   "source": [
    "Attributes are the multisequence equivalent of the statistics methods in the core module. Multisequence attributes can be represented as a single value, or a collection of values with each corresponding to the summary statistic of a single sequence. The pysan library's `attributes` module also contains a sequence frequency method which can be used to create sequence frequency plots."
   ]
  },
  {
   "cell_type": "code",
   "execution_count": 4,
   "metadata": {},
   "outputs": [],
   "source": [
    "#export\n",
    "from pysan.statistics import is_recurrent\n",
    "def are_recurrent(sequences):\n",
    "    \"Returns true if any of the sequences in a given collection are recurrant, false otherwise.\"\n",
    "\n",
    "    for sequence in sequences:\n",
    "        if is_recurrent(sequence):\n",
    "            return True\n",
    "\n",
    "    return False"
   ]
  },
  {
   "cell_type": "code",
   "execution_count": 5,
   "metadata": {},
   "outputs": [
    {
     "data": {
      "text/plain": [
       "True"
      ]
     },
     "execution_count": 5,
     "metadata": {},
     "output_type": "execute_result"
    }
   ],
   "source": [
    "s1 = [1,1,1,2,2,3,2,4,4,3,2,1,2,3,3,3,2,2,1,1,1]\n",
    "s2 = [1,1,2,2,3,2,4,4,3,2,1,2,3,2,2,2,3,3,2,4,4]\n",
    "s3 = [1,1,1,2,2,3,2,4,4,3,2,1,2,3,3,3,4,4,4,3,3]\n",
    "s4 = [1,1,1,1,2,3,2,3,3,3,3,1,2,2,3,3,3,4,4,4,4]\n",
    "sequences = [s1,s2,s3,s4]\n",
    "are_recurrent(sequences)"
   ]
  },
  {
   "cell_type": "code",
   "execution_count": 6,
   "metadata": {},
   "outputs": [],
   "source": [
    "#export\n",
    "def get_summary_statistic(sequences, function):\n",
    "    \"Computes a summary statistic (e.g. entropy, complexity, or turbulence) for each sequence in a collection, returning the results as a list.\"\n",
    "    return [function(s) for s in sequences]"
   ]
  },
  {
   "cell_type": "code",
   "execution_count": 7,
   "metadata": {},
   "outputs": [
    {
     "data": {
      "text/plain": [
       "[0.9363346784550166, 0.936781259256497, 0.98495001131136, 0.9673577477123131]"
      ]
     },
     "execution_count": 7,
     "metadata": {},
     "output_type": "execute_result"
    }
   ],
   "source": [
    "import pysan as ps\n",
    "s1 = [1,1,1,2,2,3,2,4,4,3,2,1,2,3,3,3,2,2,1,1,1]\n",
    "s2 = [1,1,2,2,3,2,4,4,3,2,1,2,3,2,2,2,3,3,2,4,4]\n",
    "s3 = [1,1,1,2,2,3,2,4,4,3,2,1,2,3,3,3,4,4,4,3,3]\n",
    "s4 = [1,1,1,1,2,3,2,3,3,3,3,1,2,2,3,3,3,4,4,4,4]\n",
    "sequences = [s1,s2,s3,s4]\n",
    "get_summary_statistic(sequences, ps.statistics.get_entropy)"
   ]
  },
  {
   "cell_type": "code",
   "execution_count": 11,
   "metadata": {},
   "outputs": [],
   "source": [
    "#export\n",
    "from pysan.statistics import get_routine\n",
    "def get_routine_scores(sequences, duration):\n",
    "    \"Returns a list containing the routine scores for each sequence in a collection using :meth:`get_routine() <pysan.core.get_routine>`.\"\n",
    "    return [get_routine(s, duration) for s in sequences]"
   ]
  },
  {
   "cell_type": "code",
   "execution_count": 12,
   "metadata": {},
   "outputs": [
    {
     "data": {
      "text/plain": [
       "[0.0, 0.0, 0.0, 0.0]"
      ]
     },
     "execution_count": 12,
     "metadata": {},
     "output_type": "execute_result"
    }
   ],
   "source": [
    "s1 = [1,1,1,2,2,3,2,4,4,3,2,1,2,3,3,3,2,2,1,1,1]\n",
    "s2 = [1,1,2,2,3,2,4,4,3,2,1,2,3,2,2,2,3,3,2,4,4]\n",
    "s3 = [1,1,1,2,2,3,2,4,4,3,2,1,2,3,3,3,4,4,4,3,3]\n",
    "s4 = [1,1,1,1,2,3,2,3,3,3,3,1,2,2,3,3,3,4,4,4,4]\n",
    "sequences = [s1,s2,s3,s4]\n",
    "get_routine_scores(sequences, 3)"
   ]
  },
  {
   "cell_type": "code",
   "execution_count": 14,
   "metadata": {},
   "outputs": [],
   "source": [
    "#export\n",
    "def get_synchrony(sequences):\n",
    "    \"Computes the normalised synchrony between a two or more sequences. Synchrony here refers to positions with identical elements, e.g. two identical sequences have a synchrony of 1, two completely different sequences have a synchrony of 0. The value is normalised by dividing by the number of positions compared. This computation is defined in Cornwell's 2015 book on social sequence analysis, page 230.\"\n",
    "\n",
    "    shortest_sequence = min([len(s) for s in sequences])\n",
    "\n",
    "    same_elements = []\n",
    "    for position in range(shortest_sequence):\n",
    "\n",
    "        elements_at_this_position = []\n",
    "        for sequence in sequences:\n",
    "            elements_at_this_position.append(sequence[position])\n",
    "\n",
    "        same_elements.append(elements_at_this_position.count(elements_at_this_position[0]) == len(elements_at_this_position))\n",
    "\n",
    "    return same_elements.count(True) / shortest_sequence"
   ]
  },
  {
   "cell_type": "code",
   "execution_count": 19,
   "metadata": {},
   "outputs": [
    {
     "data": {
      "text/plain": [
       "0.09523809523809523"
      ]
     },
     "execution_count": 19,
     "metadata": {},
     "output_type": "execute_result"
    }
   ],
   "source": [
    "s1 = [1,1,1,2,2,3,2,4,4,3,2,1,2,3,3,3,2,2,1,1,1]\n",
    "s2 = [1,1,2,2,3,2,4,4,3,2,1,2,3,2,2,2,3,3,2,4,4]\n",
    "s3 = [1,1,1,2,2,3,2,4,4,3,2,1,2,3,3,3,4,4,4,3,3]\n",
    "s4 = [1,1,1,1,2,3,2,3,3,3,3,1,2,2,3,3,3,4,4,4,4]\n",
    "sequences = [s1,s2,s3,s4]\n",
    "get_synchrony(sequences)"
   ]
  },
  {
   "cell_type": "code",
   "execution_count": 16,
   "metadata": {},
   "outputs": [],
   "source": [
    "#export\n",
    "def get_sequence_frequencies(sequences):\n",
    "    \"Computes the frequencies of different sequences in a collection, returning a dictionary of their string representations and counts.\"\n",
    "\n",
    "    # converting to strings makes comparison easy\n",
    "    sequences_as_strings = [str(s) for s in sequences]\n",
    "\n",
    "    sequence_frequencies = {}\n",
    "    for sequence in set(sequences_as_strings):\n",
    "        sequence_frequencies[sequence] = sequences_as_strings.count(sequence)\n",
    "\n",
    "    sequence_frequencies = {k: v for k, v in sorted(sequence_frequencies.items(), key=lambda item: item[1], reverse=True)}\n",
    "\n",
    "    return sequence_frequencies"
   ]
  },
  {
   "cell_type": "code",
   "execution_count": 21,
   "metadata": {},
   "outputs": [
    {
     "data": {
      "text/plain": [
       "{'[1, 1, 1, 2, 2, 3, 2]': 2, '[1, 1, 2, 2, 3, 2, 4]': 2}"
      ]
     },
     "execution_count": 21,
     "metadata": {},
     "output_type": "execute_result"
    }
   ],
   "source": [
    "s1 = [1,1,1,2,2,3,2]\n",
    "s2 = [1,1,2,2,3,2,4]\n",
    "s3 = [1,1,1,2,2,3,2]\n",
    "s4 = [1,1,2,2,3,2,4]\n",
    "sequences = [s1,s2,s3,s4]\n",
    "get_sequence_frequencies(sequences)"
   ]
  },
  {
   "cell_type": "markdown",
   "metadata": {},
   "source": [
    "## Plotting\n",
    "\n",
    "TODO\n",
    "\n",
    "Unlike the core module's statistics methods, many of the above methods return multiple values which can be used to create meaningful visualisations."
   ]
  },
  {
   "cell_type": "code",
   "execution_count": null,
   "metadata": {},
   "outputs": [],
   "source": []
  }
 ],
 "metadata": {
  "kernelspec": {
   "display_name": "Python 3",
   "language": "python",
   "name": "python3"
  },
  "language_info": {
   "codemirror_mode": {
    "name": "ipython",
    "version": 3
   },
   "file_extension": ".py",
   "mimetype": "text/x-python",
   "name": "python",
   "nbconvert_exporter": "python",
   "pygments_lexer": "ipython3",
   "version": "3.9.6"
  }
 },
 "nbformat": 4,
 "nbformat_minor": 4
}
