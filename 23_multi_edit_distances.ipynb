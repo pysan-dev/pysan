{
 "cells": [
  {
   "cell_type": "code",
   "execution_count": null,
   "metadata": {},
   "outputs": [],
   "source": [
    "# default_exp multi.editdistances"
   ]
  },
  {
   "cell_type": "markdown",
   "metadata": {},
   "source": [
    "# Edit Distances\n",
    "\n",
    "> Compare sequences using the number of edits needed to match them"
   ]
  },
  {
   "cell_type": "markdown",
   "metadata": {},
   "source": [
    "The distances between any two sequences can be represented as the number of changes needed to make them identical.\n",
    "Sequences `s1` and `s2` can be given as parameters to each of the distance measures below."
   ]
  },
  {
   "cell_type": "code",
   "execution_count": null,
   "metadata": {},
   "outputs": [],
   "source": [
    "#export\n",
    "def get_optimal_distance(s1,s2, match = 0, mismatch = -1, gap = -1):\n",
    "    \"Computes the optimal matching distance between two sequences using the [Needleman-Wunsch algorithm](https://www.sciencedirect.com/science/article/abs/pii/0022283670900574?via%3Dihub) based on Devon Ryan's implementation found [here](<https://www.biostars.org/p/231391/).\"\n",
    "\n",
    "    penalty = {'MATCH': match, 'MISMATCH': mismatch, 'GAP': gap} #A dictionary for all the penalty valuse.\n",
    "    n = len(s1) + 1 #The dimension of the matrix columns.\n",
    "    m = len(s2) + 1 #The dimension of the matrix rows.\n",
    "    al_mat = np.zeros((m,n),dtype = float) #Initializes the alighment matrix with zeros.\n",
    "    p_mat = np.zeros((m,n),dtype = str) #Initializes the pointer matrix with zeros.\n",
    "    #Scans all the first rows element in the matrix and fill it with \"gap penalty\"\n",
    "    for i in range(m):\n",
    "        al_mat[i][0] = penalty['GAP'] * i\n",
    "        p_mat[i][0] = 'V'\n",
    "    #Scans all the first columns element in the matrix and fill it with \"gap penalty\"\n",
    "    for j in range (n):\n",
    "        al_mat[0][j] = penalty['GAP'] * j\n",
    "        p_mat [0][j] = 'H'\n",
    "\n",
    "\n",
    "    #-------------------------------------------------------\n",
    "    #This function returns to values for cae of match or mismatch\n",
    "    def Diagonal(n1,n2,pt):\n",
    "        if(n1 == n2):\n",
    "            return pt['MATCH']\n",
    "        else:\n",
    "            return pt['MISMATCH']\n",
    "\n",
    "    #------------------------------------------------------------   \n",
    "    #This function gets the optional elements of the aligment matrix and returns the elements for the pointers matrix.\n",
    "    def Pointers(di,ho,ve):\n",
    "        pointer = max(di,ho,ve) #based on python default maximum(return the first element).\n",
    "\n",
    "        if(di == pointer):\n",
    "            return 'D'\n",
    "        elif(ho == pointer):\n",
    "            return 'H'\n",
    "        else:\n",
    "             return 'V'\n",
    "\n",
    "    #Fill the matrix with the correct values.\n",
    "    p_mat [0][0] = 0 #Return the first element of the pointer matrix back to 0.\n",
    "    for i in range(1,m):\n",
    "        for j in range(1,n):\n",
    "            di = al_mat[i-1][j-1] + Diagonal(s1[j-1],s2[i-1],penalty) #The value for match/mismatch -  diagonal.\n",
    "            ho = al_mat[i][j-1] + penalty['GAP'] #The value for gap - horizontal.(from the left cell)\n",
    "            ve = al_mat[i-1][j] + penalty['GAP'] #The value for gap - vertical.(from the upper cell)\n",
    "            al_mat[i][j] = max(di,ho,ve) #Fill the matrix with the maximal value.(based on the python default maximum)\n",
    "            p_mat[i][j] = Pointers(di,ho,ve)\n",
    "\n",
    "    #print(np.matrix(al_mat))\n",
    "    #print(np.matrix(p_mat))\n",
    "\n",
    "    # optimal alignment score = bottom right value in al_mat\n",
    "    score = al_mat[m-1][n-1]\n",
    "    #print(score)\n",
    "    if score == 0: # fixes -0 bug for completeness\n",
    "        return 0\n",
    "\n",
    "    return -score"
   ]
  },
  {
   "cell_type": "code",
   "execution_count": null,
   "metadata": {},
   "outputs": [],
   "source": [
    "#export\n",
    "def get_levenshtein_distance(s1,s2):\n",
    "    \"Computes the [Levenshtein II distance](https://journals.sagepub.com/doi/abs/10.1177/0049124110362526) between two sequences, which is the optimal distance using only insertions and deletions. This is identical to the `get_optimal_distance` method with a mismatch cost of ~infinity (-9999999) and a gap cost of -1. See the `get_optimal_distance` method with its default parameters for the Levenshtein I distance.\"\n",
    "    return get_optimal_distance(s1,s2, match=0, mismatch=-9999999, gap=-1)"
   ]
  },
  {
   "cell_type": "code",
   "execution_count": null,
   "metadata": {},
   "outputs": [],
   "source": [
    "#export\n",
    "def get_hamming_distance(s1,s2):\n",
    "    \"Computes the Hamming distance  between two sequences, which is the optimal distance using only substitutions (no indels). This is identical to the `get_optimal_distance` method with a mismatch cost of -1 and a gap cost of ~infinity (-999999). Note that this can only be used on sequences of the same length given the infinite cost of gaps.\"\n",
    "    if len(s1) != len(s2):\n",
    "        raise Exception('sequences provided are not equal length - cannot compute Hamming distance')\n",
    "\n",
    "    return get_optimal_distance(s1,s2, match=0, mismatch=-1, gap=-999999)"
   ]
  }
 ],
 "metadata": {
  "kernelspec": {
   "display_name": "Python 3",
   "language": "python",
   "name": "python3"
  }
 },
 "nbformat": 4,
 "nbformat_minor": 4
}
