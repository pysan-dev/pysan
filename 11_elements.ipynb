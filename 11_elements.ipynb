{
 "cells": [
  {
   "cell_type": "code",
   "execution_count": null,
   "metadata": {},
   "outputs": [],
   "source": [
    "# default_exp elements"
   ]
  },
  {
   "cell_type": "markdown",
   "metadata": {},
   "source": [
    "# Element Descriptions\n",
    "\n",
    "> Describe elements within sequences"
   ]
  },
  {
   "cell_type": "markdown",
   "metadata": {},
   "source": [
    "## Overview\n",
    "\n",
    "Describing the unique elements, frequencies, first positions, and raw counts of elements within a given sequence can be a useful way to get some insight into how the sequence is composed. The `elements` module contains methods for computing each of these descriptors, and methods for visualising their outputs."
   ]
  },
  {
   "cell_type": "markdown",
   "metadata": {},
   "source": [
    "## Methods"
   ]
  },
  {
   "cell_type": "code",
   "execution_count": 1,
   "metadata": {},
   "outputs": [],
   "source": [
    "#export\n",
    "def get_alphabet(sequence):\n",
    "    \"Computes the alphabet of a given sequence (set of its unique elements).\"\n",
    "    return set(sequence)"
   ]
  },
  {
   "cell_type": "code",
   "execution_count": 1,
   "metadata": {},
   "outputs": [
    {
     "data": {
      "text/plain": [
       "{1, 2, 3}"
      ]
     },
     "execution_count": 1,
     "metadata": {},
     "output_type": "execute_result"
    }
   ],
   "source": [
    "from pysan.elements import get_alphabet\n",
    "sequence = [3, 2, 3, 1, 1, 3, 1, 1, 2, 3, 1, 3, 1, 3, 2, 2, 3, 1, 3, 2]\n",
    "get_alphabet(sequence)"
   ]
  },
  {
   "cell_type": "code",
   "execution_count": 3,
   "metadata": {},
   "outputs": [],
   "source": [
    "#export\n",
    "def get_element_counts(sequence):\n",
    "    \"Counts the number of occurances for each element in a sequence, returning a dictionary containing the elements as keys and their counts as values.\"\n",
    "    alphabet = get_alphabet(sequence)\n",
    "\n",
    "    counts = {}\n",
    "    for element in alphabet:\n",
    "        counts[element] = sequence.count(element)\n",
    "\n",
    "    return counts"
   ]
  },
  {
   "cell_type": "code",
   "execution_count": 4,
   "metadata": {},
   "outputs": [
    {
     "data": {
      "text/plain": [
       "{1: 7, 2: 5, 3: 8}"
      ]
     },
     "execution_count": 4,
     "metadata": {},
     "output_type": "execute_result"
    }
   ],
   "source": [
    "sequence = [3, 2, 3, 1, 1, 3, 1, 1, 2, 3, 1, 3, 1, 3, 2, 2, 3, 1, 3, 2]\n",
    "get_element_counts(sequence)"
   ]
  },
  {
   "cell_type": "code",
   "execution_count": 5,
   "metadata": {},
   "outputs": [],
   "source": [
    "#export\n",
    "def get_first_positions(sequence):\n",
    "    \"Reports the first occurance of each element in the sequence in a dictionary, with each element as keys, and their first position as values.\"\n",
    "    unique_elements = list(set(sequence))\n",
    "\n",
    "    first_positions = {}\n",
    "    for element in unique_elements:\n",
    "        first_positions[element] = sequence.index(element)\n",
    "\n",
    "    return first_positions"
   ]
  },
  {
   "cell_type": "code",
   "execution_count": 6,
   "metadata": {},
   "outputs": [
    {
     "data": {
      "text/plain": [
       "{1: 3, 2: 1, 3: 0}"
      ]
     },
     "execution_count": 6,
     "metadata": {},
     "output_type": "execute_result"
    }
   ],
   "source": [
    "sequence = [3, 2, 3, 1, 1, 3, 1, 1, 2, 3, 1, 3, 1, 3, 2, 2, 3, 1, 3, 2]\n",
    "get_first_positions(sequence)"
   ]
  },
  {
   "cell_type": "code",
   "execution_count": 7,
   "metadata": {},
   "outputs": [],
   "source": [
    "#export\n",
    "def get_element_frequency(sequence):\n",
    "    \"Computes the relative frequency (aka prevalence or unconditional probability) of each element in a sequence, returning a dictionary where each key is an element and each value is that elements relative frequency.\"\n",
    "    alphabet = get_alphabet(sequence)\n",
    "\n",
    "    prevalences = {}\n",
    "    for element in alphabet:\n",
    "        prevalences[element] = sequence.count(element) / len(sequence)\n",
    "\n",
    "    return prevalences"
   ]
  },
  {
   "cell_type": "code",
   "execution_count": 8,
   "metadata": {},
   "outputs": [
    {
     "data": {
      "text/plain": [
       "{1: 0.35, 2: 0.25, 3: 0.4}"
      ]
     },
     "execution_count": 8,
     "metadata": {},
     "output_type": "execute_result"
    }
   ],
   "source": [
    "sequence = [3, 2, 3, 1, 1, 3, 1, 1, 2, 3, 1, 3, 1, 3, 2, 2, 3, 1, 3, 2]\n",
    "get_element_frequency(sequence)"
   ]
  },
  {
   "cell_type": "markdown",
   "metadata": {},
   "source": [
    "## Plotting\n",
    "\n",
    "Each of the element plotting techniques in the pysan library calls the method(s) needed to plot the data being visualised. For example, the `plot_element_counts` method below calls `get_element_counts` itself so you don't have to."
   ]
  },
  {
   "cell_type": "code",
   "execution_count": null,
   "metadata": {},
   "outputs": [],
   "source": [
    "#export\n",
    "import matplotlib.pyplot as plt\n",
    "def plot_element_counts(sequence):\n",
    "    \"Plots the number of occurances of each unique element in a given sequence.\"\n",
    "\n",
    "    prev = get_element_counts(sequence)\n",
    "    prev = {k: prev[k] for k in sorted(prev, key=prev.get)}\n",
    "\n",
    "    xdata = [str(key) for key,value in prev.items()]\n",
    "    ydata = [value for key,value in prev.items()]\n",
    "\n",
    "    plt.figure(figsize=(len(xdata) * 2, len(ydata) * 0.5))\n",
    "    plt.barh(xdata, ydata)\n",
    "    plt.ylabel('Element')\n",
    "    plt.xlabel('Number of Occurances')\n",
    "    plt.gca().yaxis.grid(False)\n",
    "    return plt"
   ]
  },
  {
   "cell_type": "code",
   "execution_count": null,
   "metadata": {},
   "outputs": [
    {
     "data": {
      "image/png": "[encoded data removed]",
      "text/plain": [
       "<Figure size 432x108 with 1 Axes>"
      ]
     },
     "metadata": {
      "needs_background": "light"
     },
     "output_type": "display_data"
    }
   ],
   "source": [
    "sequence = [1,1,2,1,2,2,3,1,1,2,2,1,2,2,3,1,1,2]\n",
    "plt = plot_element_counts(sequence)\n",
    "plt.show()"
   ]
  }
 ],
 "metadata": {
  "kernelspec": {
   "display_name": "Python 3",
   "language": "python",
   "name": "python3"
  },
  "language_info": {
   "codemirror_mode": {
    "name": "ipython",
    "version": 3
   },
   "file_extension": ".py",
   "mimetype": "text/x-python",
   "name": "python",
   "nbconvert_exporter": "python",
   "pygments_lexer": "ipython3",
   "version": "3.9.6"
  }
 },
 "nbformat": 4,
 "nbformat_minor": 4
}
