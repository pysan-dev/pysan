{
 "cells": [
  {
   "cell_type": "code",
   "execution_count": null,
   "metadata": {},
   "outputs": [],
   "source": [
    "# default_exp ngrams"
   ]
  },
  {
   "cell_type": "markdown",
   "metadata": {},
   "source": [
    "# Ngrams\n",
    "\n",
    "> Explore ngrams in a sequence"
   ]
  },
  {
   "cell_type": "markdown",
   "metadata": {},
   "source": [
    "## Overview\n",
    "\n",
    "N-grams are a type of subsequence which consist of n contiguous elements. Exploring n-grams in your data can be especially useful for identifying common behavioural patterns (e.g. wake-up, make breakfast, go to work), and identify less common (outlier) n-grams which may be an interesting feature of your specific data set."
   ]
  },
  {
   "cell_type": "markdown",
   "metadata": {},
   "source": [
    "## Methods"
   ]
  },
  {
   "cell_type": "code",
   "execution_count": null,
   "metadata": {},
   "outputs": [],
   "source": [
    "#export\n",
    "def get_unique_ngrams(sequence, n):\n",
    "    \"Creates a list of all unique ngrams found in a given sequence.\"\n",
    "    unique_ngrams = []\n",
    "    for x in range(len(sequence) -  n + 1):\n",
    "        this_ngram = sequence[x:x + n]\n",
    "\n",
    "        if str(this_ngram) not in unique_ngrams:\n",
    "            unique_ngrams.append(str(this_ngram))\n",
    "\n",
    "    return [eval(x) for x in unique_ngrams]"
   ]
  },
  {
   "cell_type": "code",
   "execution_count": null,
   "metadata": {},
   "outputs": [],
   "source": [
    "#export\n",
    "def get_all_ngrams(sequence, n):\n",
    "    \"Creates a list of all ngrams found in a given sequence.\"\n",
    "\n",
    "    all_ngrams = []\n",
    "    for x in range(len(sequence) -  n + 1):\n",
    "        this_ngram = sequence[x:x + n]\n",
    "        all_ngrams.append(this_ngram)\n",
    "\n",
    "    return all_ngrams"
   ]
  },
  {
   "cell_type": "code",
   "execution_count": null,
   "metadata": {},
   "outputs": [],
   "source": [
    "#export\n",
    "def get_ngram_universe(sequence, n):\n",
    "    \"Computes the universe of possible ngrams given a sequence. Where n is equal to the length of the sequence, the resulting number represents the sequence universe.\"\n",
    "    # if recurrance is possible, the universe is given by k^t (SSA pg 68)\n",
    "    k = len(set(sequence))\n",
    "    if k > 10 and n > 10:\n",
    "        return 'really big'\n",
    "    return k**n"
   ]
  },
  {
   "cell_type": "code",
   "execution_count": null,
   "metadata": {},
   "outputs": [],
   "source": [
    "#export\n",
    "def get_ngram_counts(sequence, n):\n",
    "    \"Computes the prevalence of ngrams in a sequence, returning a dictionary where each key is an ngram, and each value is the number of times that ngram appears in the sequence.\"\n",
    "\n",
    "    ngrams = get_unique_ngrams(sequence, n)\n",
    "\n",
    "    ngram_counts = {str(i):0 for i in ngrams}    \n",
    "\n",
    "    for x in range(len(sequence) -  n + 1):\n",
    "        this_ngram = sequence[x:x + n]\n",
    "        ngram_counts[str(this_ngram)] += 1\n",
    "\n",
    "    return ngram_counts"
   ]
  },
  {
   "cell_type": "markdown",
   "metadata": {},
   "source": [
    "# Plotting"
   ]
  },
  {
   "cell_type": "code",
   "execution_count": null,
   "metadata": {},
   "outputs": [],
   "source": [
    "#export\n",
    "import matplotlib.pyplot as plt\n",
    "def plot_ngram_counts(sequence, n):\n",
    "    \"Plots the number of occurances of ngrams in a given sequence.\"\n",
    "\n",
    "    ngram_counts = get_ngram_counts(sequence, n)\n",
    "    ngram_counts = {k: ngram_counts[k] for k in sorted(ngram_counts, key=ngram_counts.get)}\n",
    "\n",
    "    xdata = [key[1:len(key)-1].replace(', ', ', ') for key,value in ngram_counts.items()]\n",
    "    ydata = [value for key,value in ngram_counts.items()]\n",
    "\n",
    "    plt.figure()\n",
    "    plt.barh(xdata, ydata, label=str(n) +'-gram')\n",
    "    plt.xlabel('Number of Occurances')\n",
    "    plt.gca().yaxis.grid(False)\n",
    "    plt.legend()\n",
    "    return plt"
   ]
  },
  {
   "cell_type": "code",
   "execution_count": null,
   "metadata": {},
   "outputs": [
    {
     "data": {
      "image/png": "[encoded data removed]",
      "text/plain": [
       "<Figure size 432x288 with 1 Axes>"
      ]
     },
     "metadata": {
      "needs_background": "light"
     },
     "output_type": "display_data"
    }
   ],
   "source": [
    "sequence = [1,1,2,1,2,2,3,1,1,2,2,1,2,2,3,1,1,2]\n",
    "plt = plot_ngram_counts(sequence, 3)\n",
    "plt.show()"
   ]
  }
 ],
 "metadata": {
  "kernelspec": {
   "display_name": "Python 3",
   "language": "python",
   "name": "python3"
  },
  "language_info": {
   "codemirror_mode": {
    "name": "ipython",
    "version": 3
   },
   "file_extension": ".py",
   "mimetype": "text/x-python",
   "name": "python",
   "nbconvert_exporter": "python",
   "pygments_lexer": "ipython3",
   "version": "3.9.6"
  }
 },
 "nbformat": 4,
 "nbformat_minor": 4
}
