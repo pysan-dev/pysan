{
 "cells": [
  {
   "cell_type": "code",
   "execution_count": null,
   "metadata": {},
   "outputs": [],
   "source": [
    "# default_exp core.ngrams"
   ]
  },
  {
   "cell_type": "markdown",
   "metadata": {},
   "source": [
    "# Ngrams\n",
    "\n",
    "> Explore ngrams in a sequence"
   ]
  },
  {
   "cell_type": "code",
   "execution_count": null,
   "metadata": {},
   "outputs": [],
   "source": [
    "#export\n",
    "def get_unique_ngrams(sequence, n):\n",
    "\t\"Creates a list of all unique ngrams found in a given sequence.\"\t\n",
    "\tunique_ngrams = []\n",
    "\tfor x in range(len(sequence) -  n + 1):\n",
    "\t\tthis_ngram = sequence[x:x + n]\n",
    "\t\t\n",
    "\t\tif str(this_ngram) not in unique_ngrams:\n",
    "\t\t\tunique_ngrams.append(str(this_ngram))\n",
    "\t\t\t\n",
    "\treturn [eval(x) for x in unique_ngrams]"
   ]
  },
  {
   "cell_type": "code",
   "execution_count": null,
   "metadata": {},
   "outputs": [],
   "source": [
    "#export\n",
    "def get_all_ngrams(sequence, n):\n",
    "\t\"Creates a list of all ngrams found in a given sequence.\"\n",
    "\t\n",
    "\tall_ngrams = []\n",
    "\tfor x in range(len(sequence) -  n + 1):\n",
    "\t\tthis_ngram = sequence[x:x + n]\n",
    "\t\tall_ngrams.append(this_ngram)\n",
    "\t\t\t\n",
    "\treturn all_ngrams"
   ]
  },
  {
   "cell_type": "code",
   "execution_count": null,
   "metadata": {},
   "outputs": [],
   "source": [
    "#export\n",
    "def get_ngram_universe(sequence, n):\n",
    "\t\"Computes the universe of possible ngrams given a sequence. Where n is equal to the length of the sequence, the resulting number represents the sequence universe.\"\n",
    "\t# if recurrance is possible, the universe is given by k^t (SSA pg 68)\n",
    "\tk = len(set(sequence))\n",
    "\tif k > 10 and n > 10:\n",
    "\t\treturn 'really big'\n",
    "\treturn k**n"
   ]
  },
  {
   "cell_type": "code",
   "execution_count": null,
   "metadata": {},
   "outputs": [],
   "source": [
    "#export\n",
    "def get_ngram_counts(sequence, n):\n",
    "\t\"Computes the prevalence of ngrams in a sequence, returning a dictionary where each key is an ngram, and each value is the number of times that ngram appears in the sequence.\"\n",
    "\t\n",
    "\tngrams = get_unique_ngrams(sequence, n)\n",
    "\t\n",
    "\tngram_counts = {str(i):0 for i in ngrams}    \n",
    "\t\n",
    "\tfor x in range(len(sequence) -  n + 1):\n",
    "\t\tthis_ngram = sequence[x:x + n]\n",
    "\t\tngram_counts[str(this_ngram)] += 1\n",
    "\t\n",
    "\treturn ngram_counts"
   ]
  },
  {
   "cell_type": "markdown",
   "metadata": {},
   "source": [
    "# Plotting"
   ]
  },
  {
   "cell_type": "code",
   "execution_count": null,
   "metadata": {},
   "outputs": [],
   "source": []
  }
 ],
 "metadata": {
  "kernelspec": {
   "display_name": "Python 3",
   "language": "python",
   "name": "python3"
  }
 },
 "nbformat": 4,
 "nbformat_minor": 4
}
