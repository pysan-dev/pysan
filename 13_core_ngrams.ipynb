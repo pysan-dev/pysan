{
 "cells": [
  {
   "cell_type": "code",
   "execution_count": null,
   "metadata": {},
   "outputs": [],
   "source": [
    "# default_exp core.ngrams"
   ]
  },
  {
   "cell_type": "markdown",
   "metadata": {},
   "source": [
    "# Ngrams\n",
    "\n",
    "> Explore ngrams in a sequence"
   ]
  },
  {
   "cell_type": "code",
   "execution_count": null,
   "metadata": {},
   "outputs": [],
   "source": [
    "#export\n",
    "def get_unique_ngrams(sequence, n):\n",
    "    \"Creates a list of all unique ngrams found in a given sequence.\"\t\n",
    "    unique_ngrams = []\n",
    "    for x in range(len(sequence) -  n + 1):\n",
    "        this_ngram = sequence[x:x + n]\n",
    "\n",
    "        if str(this_ngram) not in unique_ngrams:\n",
    "            unique_ngrams.append(str(this_ngram))\n",
    "\n",
    "    return [eval(x) for x in unique_ngrams]"
   ]
  },
  {
   "cell_type": "code",
   "execution_count": null,
   "metadata": {},
   "outputs": [],
   "source": [
    "#export\n",
    "def get_all_ngrams(sequence, n):\n",
    "    \"Creates a list of all ngrams found in a given sequence.\"\n",
    "\n",
    "    all_ngrams = []\n",
    "    for x in range(len(sequence) -  n + 1):\n",
    "        this_ngram = sequence[x:x + n]\n",
    "        all_ngrams.append(this_ngram)\n",
    "\n",
    "    return all_ngrams"
   ]
  },
  {
   "cell_type": "code",
   "execution_count": null,
   "metadata": {},
   "outputs": [],
   "source": [
    "#export\n",
    "def get_ngram_universe(sequence, n):\n",
    "    \"Computes the universe of possible ngrams given a sequence. Where n is equal to the length of the sequence, the resulting number represents the sequence universe.\"\n",
    "    # if recurrance is possible, the universe is given by k^t (SSA pg 68)\n",
    "    k = len(set(sequence))\n",
    "    if k > 10 and n > 10:\n",
    "        return 'really big'\n",
    "    return k**n"
   ]
  },
  {
   "cell_type": "code",
   "execution_count": null,
   "metadata": {},
   "outputs": [],
   "source": [
    "#export\n",
    "def get_ngram_counts(sequence, n):\n",
    "    \"Computes the prevalence of ngrams in a sequence, returning a dictionary where each key is an ngram, and each value is the number of times that ngram appears in the sequence.\"\n",
    "\n",
    "    ngrams = get_unique_ngrams(sequence, n)\n",
    "\n",
    "    ngram_counts = {str(i):0 for i in ngrams}    \n",
    "\n",
    "    for x in range(len(sequence) -  n + 1):\n",
    "        this_ngram = sequence[x:x + n]\n",
    "        ngram_counts[str(this_ngram)] += 1\n",
    "\n",
    "    return ngram_counts"
   ]
  },
  {
   "cell_type": "markdown",
   "metadata": {},
   "source": [
    "# Plotting"
   ]
  },
  {
   "cell_type": "code",
   "execution_count": null,
   "metadata": {},
   "outputs": [],
   "source": []
  }
 ],
 "metadata": {
  "kernelspec": {
   "display_name": "Python 3",
   "language": "python",
   "name": "python3"
  }
 },
 "nbformat": 4,
 "nbformat_minor": 4
}
