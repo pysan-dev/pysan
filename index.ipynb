{
 "cells": [
  {
   "cell_type": "code",
   "execution_count": null,
   "metadata": {},
   "outputs": [],
   "source": [
    "#hide\n",
    "from pysan.core import *\n",
    "from pysan.multi import *\n",
    "from nbdev.showdoc import *"
   ]
  },
  {
   "cell_type": "markdown",
   "metadata": {},
   "source": [
    "# Welcome to the pysan library\n",
    "\n",
    "> Sequence analysis in Python\n"
   ]
  },
  {
   "cell_type": "markdown",
   "metadata": {},
   "source": [
    "\n",
    "[![GitHub Workflow Status](https://img.shields.io/github/workflow/status/pysan-dev/pysan/CI?logo=github&style=for-the-badge&)](https://github.com/pysan-dev/pysan/actions)\n",
    "[![PyPI](https://img.shields.io/pypi/v/pysan?style=for-the-badge&color=blue)](https://pypi.org/project/PySAN/)\n",
    "\n",
    "The pysan library is a collection of methods for doing sequence analysis. It's free, open source, and each method is fully documented with examples. Using pysan you'll be able to run powerful sequence analysis and visualisation tasks with just a few lines of code, and integrate or extend them into your other Python workflows."
   ]
  },
  {
   "cell_type": "markdown",
   "metadata": {},
   "source": [
    "The pysan library is specifically for sequence analysis in the social sciences, which concerns the order in which people do things (like communicate), but can be applied to broader sequence analysis problems that are framed in the sequence domain. To find out more, get started by installing the library using the commands below, and read through the rest of this site."
   ]
  },
  {
   "cell_type": "markdown",
   "metadata": {},
   "source": [
    "## Install"
   ]
  },
  {
   "cell_type": "markdown",
   "metadata": {},
   "source": [
    "Install pysan using the following pip command;\n",
    "\n",
    "`pip install pysan`\n",
    "\n",
    "You can also use the very latest version by cloning the github repository.\n",
    "\n",
    "`git clone https://github.com/pysan-dev/pysan.git`"
   ]
  },
  {
   "cell_type": "markdown",
   "metadata": {},
   "source": [
    "## Why use pysan?"
   ]
  },
  {
   "cell_type": "markdown",
   "metadata": {},
   "source": [
    "Lots of events in the natural world happen in a particular order, from making a cup of tea, to getting promotions, and so on.\n",
    "In science, this applies to everything from communication data, to consumer spending, and to gambling behaviour.\n",
    "Analysing these events whilst preserving their sequential order requires analysis in the sequence domain.\n",
    "The pysan library contains methods for visualising, comparing, and dissecting sequences, helping you develop insights into your sequences with only a few lines of code.\n",
    "\n",
    "**Why Python?** - Python is quickly becoming *the* go-to language for data analysis across a number of research areas.\n",
    "By writing a sequence analysis library in Python, analysts can take advantage of other tools written in Python, whilst writing simple and readable code.\n"
   ]
  },
  {
   "cell_type": "code",
   "execution_count": null,
   "metadata": {},
   "outputs": [
    {
     "name": "stdout",
     "output_type": "stream",
     "text": [
      "Converted 00_quick_start.ipynb.\n",
      "Converted 10_core_overview.ipynb.\n",
      "Converted 11_core_elements.ipynb.\n",
      "Converted 12_core_subsequences.ipynb.\n",
      "Converted 13_core_ngrams.ipynb.\n",
      "Converted 14_core_transitions.ipynb.\n",
      "Converted 15_core_spells.ipynb.\n",
      "Converted 16_core_statistics.ipynb.\n",
      "Converted 20_multi_overview.ipynb.\n",
      "Converted 21_multi_attributes.ipynb.\n",
      "Converted 22_multi_derivatives.ipynb.\n",
      "Converted 23_multi_edit_distances.ipynb.\n",
      "Converted 24_multi_nonalignment.ipynb.\n",
      "Converted 25_multi_spell_distances.ipynb.\n",
      "Converted 26_multi_whole_comparison.ipynb.\n",
      "Converted index.ipynb.\n",
      "converting: /home/ojs/Desktop/pysan/index.ipynb\n",
      "converting /home/ojs/Desktop/pysan/index.ipynb to README.md\n"
     ]
    }
   ],
   "source": [
    "#hide\n",
    "!nbdev_build_lib\n",
    "!nbdev_build_docs\n",
    "!nbdev_clean_nbs"
   ]
  }
 ],
 "metadata": {
  "kernelspec": {
   "display_name": "Python 3",
   "language": "python",
   "name": "python3"
  }
 },
 "nbformat": 4,
 "nbformat_minor": 4
}
