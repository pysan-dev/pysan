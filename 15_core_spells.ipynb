{
 "cells": [
  {
   "cell_type": "code",
   "execution_count": null,
   "metadata": {},
   "outputs": [],
   "source": [
    "# default_exp core.spells"
   ]
  },
  {
   "cell_type": "markdown",
   "metadata": {},
   "source": [
    "# Spells\n",
    "\n",
    "> Describe spells within sequences"
   ]
  },
  {
   "cell_type": "code",
   "execution_count": null,
   "metadata": {},
   "outputs": [],
   "source": [
    "#export\n",
    "def get_spells(sequence):\n",
    "\t\"Returns a list of tuples where each tuple holds the element and the length of the spell (also known as run or episode) for each spell in the sequence.\"\n",
    "\t\n",
    "\t# get each spell and its length\n",
    "\tspells = [(k, sum(1 for x in v)) for k,v in itertools.groupby(sequence)]\n",
    "\t# this is functionally equivalent to the following;\n",
    "\t# spells = [(k, len(list(v))) for k,v in itertools.groupby(sequence)]\n",
    "\t\n",
    "\treturn spells"
   ]
  },
  {
   "cell_type": "code",
   "execution_count": null,
   "metadata": {},
   "outputs": [],
   "source": [
    "#export\n",
    "def get_longest_spell(sequence):\n",
    "\t\"Returns a dict containing the element, count, and starting position of the longest spell in the sequence. The keys of this dict are 'element, 'count', and 'start'.\"\n",
    "\t\n",
    "\tspells = get_spells(sequence)\n",
    "\n",
    "\tlongest_spell = max(count for element, count in spells)\n",
    "\n",
    "\tfor i, (element, count) in enumerate(spells):\n",
    "\t\tif count == longest_spell:\n",
    "\t\t\t# sum the counts of all previous spells to get its starting position\n",
    "\t\t\tposition_in_sequence = sum(count for _,count in spells[:i])\n",
    "\t\t\t\n",
    "\t\t\treturn {'element':element, 'count':count,'start':position_in_sequence}"
   ]
  },
  {
   "cell_type": "code",
   "execution_count": null,
   "metadata": {},
   "outputs": [],
   "source": [
    "#export\n",
    "def get_spell_durations(sequence):\n",
    "\t\"Computes the durations of each spell in the sequence, returning a list.\"\n",
    "\n",
    "\tspells = get_spells(sequence)\n",
    "\tdurations = [spell[1] for spell in spells]\n",
    "\n",
    "\treturn durations"
   ]
  },
  {
   "cell_type": "markdown",
   "metadata": {},
   "source": [
    "# Plotting"
   ]
  },
  {
   "cell_type": "code",
   "execution_count": null,
   "metadata": {},
   "outputs": [],
   "source": []
  }
 ],
 "metadata": {
  "kernelspec": {
   "display_name": "Python 3",
   "language": "python",
   "name": "python3"
  }
 },
 "nbformat": 4,
 "nbformat_minor": 4
}
