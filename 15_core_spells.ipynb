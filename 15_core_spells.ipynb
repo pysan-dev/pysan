{
 "cells": [
  {
   "cell_type": "code",
   "execution_count": null,
   "metadata": {},
   "outputs": [],
   "source": [
    "# default_exp spells"
   ]
  },
  {
   "cell_type": "markdown",
   "metadata": {},
   "source": [
    "# Spells\n",
    "\n",
    "> Describe spells within sequences"
   ]
  },
  {
   "cell_type": "markdown",
   "metadata": {},
   "source": [
    "## Overview\n",
    "\n",
    "Spells are exclusively recurrent n-grams (the same element repeated a number of times), and are a useful prerequisite for a number of distance measures and other descriptive statistics. The `pysan.core.spells` module contains methods for understanding the prevalence and extremes of spells in sequences, plus some basic visualisation functionality."
   ]
  },
  {
   "cell_type": "markdown",
   "metadata": {},
   "source": [
    "## Methods"
   ]
  },
  {
   "cell_type": "code",
   "execution_count": null,
   "metadata": {},
   "outputs": [],
   "source": [
    "#export\n",
    "import itertools\n",
    "def get_spells(sequence):\n",
    "    \"Returns a list of tuples where each tuple holds the element and the length of the spell (also known as run or episode) for each spell in the sequence.\"\n",
    "\n",
    "    # get each spell and its length\n",
    "    spells = [(k, sum(1 for x in v)) for k,v in itertools.groupby(sequence)]\n",
    "    # this is functionally equivalent to the following;\n",
    "    # spells = [(k, len(list(v))) for k,v in itertools.groupby(sequence)]\n",
    "\n",
    "    return spells"
   ]
  },
  {
   "cell_type": "code",
   "execution_count": null,
   "metadata": {},
   "outputs": [],
   "source": [
    "#export\n",
    "def get_longest_spell(sequence):\n",
    "    \"Returns a dict containing the element, count, and starting position of the longest spell in the sequence. The keys of this dict are 'element, 'count', and 'start'.\"\n",
    "\n",
    "    spells = get_spells(sequence)\n",
    "\n",
    "    longest_spell = max(count for element, count in spells)\n",
    "\n",
    "    for i, (element, count) in enumerate(spells):\n",
    "        if count == longest_spell:\n",
    "            # sum the counts of all previous spells to get its starting position\n",
    "            position_in_sequence = sum(count for _,count in spells[:i])\n",
    "\n",
    "            return {'element':element, 'count':count,'start':position_in_sequence}"
   ]
  },
  {
   "cell_type": "code",
   "execution_count": null,
   "metadata": {},
   "outputs": [],
   "source": [
    "#export\n",
    "def get_spell_durations(sequence):\n",
    "    \"Computes the durations of each spell in the sequence, returning a list.\"\n",
    "\n",
    "    spells = get_spells(sequence)\n",
    "    durations = [spell[1] for spell in spells]\n",
    "\n",
    "    return durations"
   ]
  },
  {
   "cell_type": "markdown",
   "metadata": {},
   "source": [
    "# Plotting"
   ]
  },
  {
   "cell_type": "markdown",
   "metadata": {},
   "source": [
    "todo: add plot_spell_durations"
   ]
  }
 ],
 "metadata": {
  "kernelspec": {
   "display_name": "Python 3",
   "language": "python",
   "name": "python3"
  },
  "language_info": {
   "codemirror_mode": {
    "name": "ipython",
    "version": 3
   },
   "file_extension": ".py",
   "mimetype": "text/x-python",
   "name": "python",
   "nbconvert_exporter": "python",
   "pygments_lexer": "ipython3",
   "version": "3.9.6"
  }
 },
 "nbformat": 4,
 "nbformat_minor": 4
}
