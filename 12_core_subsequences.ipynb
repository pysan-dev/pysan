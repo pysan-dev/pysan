{
 "cells": [
  {
   "cell_type": "code",
   "execution_count": null,
   "metadata": {},
   "outputs": [],
   "source": [
    "# default_exp core.subsequences"
   ]
  },
  {
   "cell_type": "markdown",
   "metadata": {},
   "source": [
    "# Subsequences\n",
    "\n",
    "> Describe high-level subsequences"
   ]
  },
  {
   "cell_type": "markdown",
   "metadata": {},
   "source": [
    "## Overview\n",
    "\n",
    "Subsequences are any possible sequences of elements which could appear in a given sequence. For example, given the sequence {A, B, C}, a subsequence could be {A, B}, {A, C} (no B), and so on. The `pysan.core.subsequences` module contains methods for computing the sets of possible subsequences, the number of distinct subsequences. It's useful to know that n-grams, transitions, and spells, are each special types of subsequences so are each given their own modules. "
   ]
  },
  {
   "cell_type": "markdown",
   "metadata": {},
   "source": [
    "## Methods"
   ]
  },
  {
   "cell_type": "code",
   "execution_count": null,
   "metadata": {},
   "outputs": [],
   "source": [
    "#export\n",
    "from itertools import combinations\n",
    "def get_subsequences(sequence):\n",
    "    subsequences = []\n",
    "    for i in range(0, len(sequence)+1):\n",
    "        temp = [list(x) for x in combinations(sequence, i)]\n",
    "        if len(temp)>0:\n",
    "            subsequences.extend(temp)\n",
    "    return subsequences[1:]"
   ]
  },
  {
   "cell_type": "code",
   "execution_count": null,
   "metadata": {},
   "outputs": [
    {
     "data": {
      "text/plain": [
       "[[3],\n",
       " [2],\n",
       " [3],\n",
       " [1],\n",
       " [3, 2],\n",
       " [3, 3],\n",
       " [3, 1],\n",
       " [2, 3],\n",
       " [2, 1],\n",
       " [3, 1],\n",
       " [3, 2, 3],\n",
       " [3, 2, 1],\n",
       " [3, 3, 1],\n",
       " [2, 3, 1],\n",
       " [3, 2, 3, 1]]"
      ]
     },
     "execution_count": null,
     "metadata": {},
     "output_type": "execute_result"
    }
   ],
   "source": [
    "sequence = [3, 2, 3, 1]\n",
    "get_subsequences(sequence)"
   ]
  },
  {
   "cell_type": "code",
   "execution_count": null,
   "metadata": {},
   "outputs": [],
   "source": [
    "#export\n",
    "def get_ndistinct_subsequences(sequence):\n",
    "    # this implementation works on strings, so parse non-strings to strings\n",
    "    if sequence is not str:\n",
    "        sequence = [str(e) for e in sequence]\n",
    "\n",
    "    # create an array to store index of last\n",
    "    last = [-1 for i in range(256 + 1)] # hard-coded value needs explaining -ojs\n",
    "\n",
    "    # length of input string\n",
    "    sequence_length = len(sequence)\n",
    "\n",
    "    # dp[i] is going to store count of discount subsequence of length of i\n",
    "    dp = [-2 for i in range(sequence_length + 1)]\n",
    "\n",
    "    # empty substring has only one subseqence\n",
    "    dp[0] = 1\n",
    "\n",
    "    # Traverse through all lengths from 1 to n \n",
    "    for i in range(1, sequence_length + 1):\n",
    "\n",
    "        # number of subseqence with substring str[0...i-1]\n",
    "        dp[i] = 2 * dp[i - 1]\n",
    "\n",
    "        # if current character has appeared before, then remove all subseqences ending with previous occurrence.\n",
    "        if last[ord(sequence[i - 1])] != -1:\n",
    "            dp[i] = dp[i] - dp[last[ord(sequence[i - 1])]]\n",
    "\n",
    "        last[ord(sequence[i - 1])] = i - 1    \n",
    "\n",
    "    return dp[sequence_length]"
   ]
  },
  {
   "cell_type": "code",
   "execution_count": null,
   "metadata": {},
   "outputs": [
    {
     "data": {
      "text/plain": [
       "14"
      ]
     },
     "execution_count": null,
     "metadata": {},
     "output_type": "execute_result"
    }
   ],
   "source": [
    "sequence = [3, 2, 3, 1]\n",
    "get_ndistinct_subsequences(sequence)"
   ]
  }
 ],
 "metadata": {
  "kernelspec": {
   "display_name": "Python 3",
   "language": "python",
   "name": "python3"
  }
 },
 "nbformat": 4,
 "nbformat_minor": 4
}
