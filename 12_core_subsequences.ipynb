{
 "cells": [
  {
   "cell_type": "code",
   "execution_count": null,
   "metadata": {},
   "outputs": [],
   "source": [
    "# default_exp core.subsequences"
   ]
  },
  {
   "cell_type": "markdown",
   "metadata": {},
   "source": [
    "# Subsequences\n",
    "\n",
    "> Describe high-level subsequences"
   ]
  },
  {
   "cell_type": "code",
   "execution_count": null,
   "metadata": {},
   "outputs": [],
   "source": [
    "#export\n",
    "from itertools import combinations\n",
    "def get_subsequences(sequence):\n",
    "\tsubsequences = []\n",
    "\tfor i in range(0, len(sequence)+1):\n",
    "\t\ttemp = [list(x) for x in combinations(sequence, i)]\n",
    "\t\tif len(temp)>0:\n",
    "\t\t\tsubsequences.extend(temp)\n",
    "\treturn subsequences[1:]"
   ]
  },
  {
   "cell_type": "code",
   "execution_count": null,
   "metadata": {},
   "outputs": [
    {
     "data": {
      "text/plain": [
       "[[3],\n",
       " [2],\n",
       " [3],\n",
       " [1],\n",
       " [3, 2],\n",
       " [3, 3],\n",
       " [3, 1],\n",
       " [2, 3],\n",
       " [2, 1],\n",
       " [3, 1],\n",
       " [3, 2, 3],\n",
       " [3, 2, 1],\n",
       " [3, 3, 1],\n",
       " [2, 3, 1],\n",
       " [3, 2, 3, 1]]"
      ]
     },
     "execution_count": null,
     "metadata": {},
     "output_type": "execute_result"
    }
   ],
   "source": [
    "sequence = [3, 2, 3, 1]\n",
    "get_subsequences(sequence)"
   ]
  },
  {
   "cell_type": "code",
   "execution_count": null,
   "metadata": {},
   "outputs": [],
   "source": [
    "#export\n",
    "def get_ndistinct_subsequences(sequence):\n",
    "\t# this implementation works on strings, so parse non-strings to strings\n",
    "\tif sequence is not str:\n",
    "\t\tsequence = [str(e) for e in sequence]\n",
    "\n",
    "\t# create an array to store index of last\n",
    "\tlast = [-1 for i in range(256 + 1)] # hard-coded value needs explaining -ojs\n",
    "\t \n",
    "\t# length of input string\n",
    "\tsequence_length = len(sequence)\n",
    "\t \n",
    "\t# dp[i] is going to store count of discount subsequence of length of i\n",
    "\tdp = [-2 for i in range(sequence_length + 1)]\n",
    "\t  \n",
    "\t# empty substring has only one subseqence\n",
    "\tdp[0] = 1\n",
    "\t \n",
    "\t# Traverse through all lengths from 1 to n \n",
    "\tfor i in range(1, sequence_length + 1):\n",
    "\t\t \n",
    "\t\t# number of subseqence with substring str[0...i-1]\n",
    "\t\tdp[i] = 2 * dp[i - 1]\n",
    " \n",
    "\t\t# if current character has appeared before, then remove all subseqences ending with previous occurrence.\n",
    "\t\tif last[ord(sequence[i - 1])] != -1:\n",
    "\t\t\tdp[i] = dp[i] - dp[last[ord(sequence[i - 1])]]\n",
    "\t\t\t\n",
    "\t\tlast[ord(sequence[i - 1])] = i - 1    \n",
    "\t\n",
    "\treturn dp[sequence_length]"
   ]
  },
  {
   "cell_type": "code",
   "execution_count": null,
   "metadata": {},
   "outputs": [
    {
     "data": {
      "text/plain": [
       "14"
      ]
     },
     "execution_count": null,
     "metadata": {},
     "output_type": "execute_result"
    }
   ],
   "source": [
    "sequence = [3, 2, 3, 1]\n",
    "get_ndistinct_subsequences(sequence)"
   ]
  }
 ],
 "metadata": {
  "kernelspec": {
   "display_name": "Python 3",
   "language": "python",
   "name": "python3"
  }
 },
 "nbformat": 4,
 "nbformat_minor": 4
}
