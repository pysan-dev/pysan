{
 "cells": [
  {
   "cell_type": "code",
   "execution_count": null,
   "metadata": {},
   "outputs": [],
   "source": [
    "# default_exp multi.derivatives"
   ]
  },
  {
   "cell_type": "markdown",
   "metadata": {},
   "source": [
    "# Derivatives\n",
    "\n",
    "> Sequences composed from collections of other sequences"
   ]
  },
  {
   "cell_type": "markdown",
   "metadata": {},
   "source": [
    "It can be useful to create a new sequence for analysis based on a collection of sequences.\n",
    "The two obvious derivatives are the sequence representing the modal state of the collection, and the motif of the collection."
   ]
  },
  {
   "cell_type": "code",
   "execution_count": null,
   "metadata": {},
   "outputs": [],
   "source": [
    "#export\n",
    "def get_motif(sequences):\n",
    "    \"Computes the motif for a given collection of sequences. A motif is a representative sequence for all sequences in a collection, with blank values (0) being those which are variable within the collection, and fixed values which are not. Motifs are related to the measure of synchrony (see `get_synchrony`) in that synchrony is equal to the number of non-blank elements in the motif.\"\n",
    "\n",
    "    shortest_sequence = min([len(s) for s in sequences])\n",
    "\n",
    "    same_elements = []\n",
    "    for position in range(shortest_sequence):\n",
    "\n",
    "        elements_at_this_position = []\n",
    "        for sequence in sequences:\n",
    "            elements_at_this_position.append(sequence[position])\n",
    "\n",
    "        if elements_at_this_position.count(elements_at_this_position[0]) == len(elements_at_this_position):\n",
    "            same_elements.append(sequences[0][position])\n",
    "        else:\n",
    "            same_elements.append(0)\n",
    "\n",
    "    return same_elements"
   ]
  },
  {
   "cell_type": "code",
   "execution_count": null,
   "metadata": {},
   "outputs": [],
   "source": []
  },
  {
   "cell_type": "code",
   "execution_count": null,
   "metadata": {},
   "outputs": [],
   "source": [
    "#export\n",
    "def get_modal_state(sequences):\n",
    "    \"Computes the modal states for each position in a collection of sequences, returning a sequence of tuples containing the modal element and its number of occurances at that position.\"\n",
    "\n",
    "    longest_sequence = max([len(s) for s in sequences])\n",
    "\n",
    "    modal_elements = []\n",
    "    for position in range(longest_sequence):\n",
    "\n",
    "        elements_at_this_position = []\n",
    "        for sequence in sequences:\n",
    "            try:\n",
    "                elements_at_this_position.append(sequence[position])\n",
    "            except:\n",
    "                continue\n",
    "\n",
    "        # this line leaves multi-modal position behaviour undefined\n",
    "        modal_element = max(set(elements_at_this_position), key=elements_at_this_position.count)\n",
    "\n",
    "        modal_elements.append((modal_element, elements_at_this_position.count(modal_element)))\n",
    "\n",
    "    return modal_elements"
   ]
  },
  {
   "cell_type": "code",
   "execution_count": null,
   "metadata": {},
   "outputs": [],
   "source": []
  }
 ],
 "metadata": {
  "kernelspec": {
   "display_name": "Python 3",
   "language": "python",
   "name": "python3"
  }
 },
 "nbformat": 4,
 "nbformat_minor": 4
}
